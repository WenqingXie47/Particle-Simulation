{
 "cells": [
  {
   "cell_type": "code",
   "execution_count": 1,
   "metadata": {},
   "outputs": [],
   "source": [
    "import numpy as np"
   ]
  },
  {
   "cell_type": "code",
   "execution_count": 4,
   "metadata": {},
   "outputs": [
    {
     "data": {
      "text/plain": [
       "array([[[[ 0, -1],\n",
       "         [-2, -3],\n",
       "         [-3, -4]],\n",
       "\n",
       "        [[ 1,  0],\n",
       "         [-1, -2],\n",
       "         [-2, -3]]],\n",
       "\n",
       "\n",
       "       [[[ 2,  1],\n",
       "         [ 0, -1],\n",
       "         [-1, -2]],\n",
       "\n",
       "        [[ 3,  2],\n",
       "         [ 1,  0],\n",
       "         [ 0, -1]]],\n",
       "\n",
       "\n",
       "       [[[ 3,  2],\n",
       "         [ 1,  0],\n",
       "         [ 0, -1]],\n",
       "\n",
       "        [[ 4,  3],\n",
       "         [ 2,  1],\n",
       "         [ 1,  0]]]])"
      ]
     },
     "execution_count": 4,
     "metadata": {},
     "output_type": "execute_result"
    }
   ],
   "source": [
    "a = [[1,2],[3,4],[4,5]]\n",
    "\n",
    "\n",
    "exp = [[-1,-1,-1]]\n",
    "c = np.subtract.outer(a,a)\n",
    "c"
   ]
  },
  {
   "cell_type": "code",
   "execution_count": 5,
   "metadata": {},
   "outputs": [
    {
     "data": {
      "text/plain": [
       "array([[ 4,  5],\n",
       "       [ 8, 10]])"
      ]
     },
     "execution_count": 5,
     "metadata": {},
     "output_type": "execute_result"
    }
   ],
   "source": [
    "a = [1,2]\n",
    "b = [4,5]\n",
    "np.outer(a,b)"
   ]
  },
  {
   "cell_type": "code",
   "execution_count": null,
   "metadata": {},
   "outputs": [],
   "source": []
  }
 ],
 "metadata": {
  "kernelspec": {
   "display_name": "base",
   "language": "python",
   "name": "python3"
  },
  "language_info": {
   "codemirror_mode": {
    "name": "ipython",
    "version": 3
   },
   "file_extension": ".py",
   "mimetype": "text/x-python",
   "name": "python",
   "nbconvert_exporter": "python",
   "pygments_lexer": "ipython3",
   "version": "3.8.10"
  },
  "orig_nbformat": 4
 },
 "nbformat": 4,
 "nbformat_minor": 2
}
