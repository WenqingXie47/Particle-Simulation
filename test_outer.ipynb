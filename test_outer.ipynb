{
 "cells": [
  {
   "cell_type": "code",
   "execution_count": 1,
   "metadata": {},
   "outputs": [],
   "source": [
    "import numpy as np"
   ]
  },
  {
   "cell_type": "code",
   "execution_count": 3,
   "metadata": {},
   "outputs": [
    {
     "data": {
      "text/plain": [
       "array([[[[-3, -4, -5],\n",
       "         [-2, -3, -4]],\n",
       "\n",
       "        [[-2, -3, -4],\n",
       "         [-1, -2, -3]],\n",
       "\n",
       "        [[-1, -2, -3],\n",
       "         [ 0, -1, -2]]],\n",
       "\n",
       "\n",
       "       [[[-2, -3, -4],\n",
       "         [-1, -2, -3]],\n",
       "\n",
       "        [[-1, -2, -3],\n",
       "         [ 0, -1, -2]],\n",
       "\n",
       "        [[ 0, -1, -2],\n",
       "         [ 1,  0, -1]]]])"
      ]
     },
     "execution_count": 3,
     "metadata": {},
     "output_type": "execute_result"
    }
   ],
   "source": [
    "a = [[1,2,3],[2,3,4]]\n",
    "b = [[4,5,6],[3,4,5]]\n",
    "\n",
    "exp = [[-3,-3,-3]]\n",
    "c = np.subtract.outer(a,b)\n",
    "c"
   ]
  },
  {
   "cell_type": "code",
   "execution_count": null,
   "metadata": {},
   "outputs": [],
   "source": []
  }
 ],
 "metadata": {
  "kernelspec": {
   "display_name": "base",
   "language": "python",
   "name": "python3"
  },
  "language_info": {
   "codemirror_mode": {
    "name": "ipython",
    "version": 3
   },
   "file_extension": ".py",
   "mimetype": "text/x-python",
   "name": "python",
   "nbconvert_exporter": "python",
   "pygments_lexer": "ipython3",
   "version": "3.8.10"
  },
  "orig_nbformat": 4
 },
 "nbformat": 4,
 "nbformat_minor": 2
}
